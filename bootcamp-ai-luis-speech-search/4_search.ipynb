{
 "cells": [
  {
   "cell_type": "markdown",
   "metadata": {},
   "source": [
    "# Step 4: Azure Cognitive Search\n",
    "\n",
    "**Content**\n",
    "\n",
    "* Create Azure Search Index\n",
    "* Create Azure Search JSON\n",
    "* Upload JSON documents on Azure Search"
   ]
  },
  {
   "cell_type": "markdown",
   "metadata": {},
   "source": [
    "### References: \n",
    "* https://docs.microsoft.com/en-us/learn/modules/intro-to-azure-search/2-what-is-azure-search\n",
    "* https://docs.microsoft.com/en-us/azure/search/cognitive-search-tutorial-blob-python\n",
    "* https://docs.microsoft.com/en-us/azure/search/search-get-started-python\n",
    "* https://docs.microsoft.com/pt-br/python/api/overview/azure/search-documents-readme?view=azure-python.\n",
    "* https://docs.microsoft.com/en-us/python/api/azure-search-documents/azure.search.documents.searchclient?view=azure-python\n",
    "* https://github.com/Azure-Samples/azure-search-python-samples/blob/master/Quickstart/REST/azure-search-quickstart.ipynb\n",
    "* https://docs.microsoft.com/en-us/rest/api/searchservice/addupdate-or-delete-documents\n",
    "* https://docs.microsoft.com/en-us/rest/api/searchservice/create-index\n",
    "* https://docs.microsoft.com/en-us/azure/search/search-indexer-troubleshooting\n",
    "* https://docs.microsoft.com/pt-br/azure/search/search-what-is-an-index"
   ]
  },
  {
   "cell_type": "code",
   "execution_count": null,
   "metadata": {},
   "outputs": [],
   "source": [
    "! pip install azure-search-documents\n"
   ]
  },
  {
   "cell_type": "code",
   "execution_count": null,
   "metadata": {},
   "outputs": [],
   "source": [
    "import json\n",
    "import requests\n",
    "from pprint import pprint\n",
    "from azure.core.credentials import AzureKeyCredential\n",
    "from azure.search.documents.indexes import SearchIndexClient \n",
    "from azure.search.documents import SearchClient\n",
    "from azure.search.documents.indexes.models import (\n",
    "     ComplexField,\n",
    "     CorsOptions,\n",
    "     SearchIndex,\n",
    "     ScoringProfile,\n",
    "     SearchFieldDataType,\n",
    "     SimpleField,\n",
    "     SearchableField\n",
    " )\n",
    "import yaml, os\n",
    "import os.path \n",
    "from os import listdir\n",
    "from collections import Counter\n"
   ]
  },
  {
   "cell_type": "markdown",
   "metadata": {},
   "source": [
    "Load Configs"
   ]
  },
  {
   "cell_type": "code",
   "execution_count": null,
   "metadata": {
    "scrolled": false
   },
   "outputs": [],
   "source": [
    "config_file = os.path.join(\"config\",\"config.yaml\")\n",
    "with open(config_file, 'r') as ymlfile:\n",
    "    config = yaml.load(ymlfile, Loader=yaml.FullLoader)\n",
    "\n",
    "##### Configurações do Search:\n",
    "service_name=config['search']['service_name']\n",
    "admin_key = config['search']['admin_key']\n",
    "index_name=config['search']['index_name']\n",
    "endpoint = \"https://{}.search.windows.net/\".format(service_name)\n",
    "api_version = config['search']['api_version']\n",
    "headers = {'Content-Type': 'application/json',\n",
    "           'api-key': admin_key}\n",
    "\n",
    "##### Configurações do Azure Storage\n",
    "container_name= config['azure_storage']['container_name_audios']\n",
    "az_storage_sas_token = config['azure_storage']['sas_token']\n",
    "az_storage_name = config['azure_storage']['storage_name']\n",
    "az_storage_uri = \"https://{name}.dfs.core.windows.net/{container}/\".format(name=az_storage_name, container=container_name)\n"
   ]
  },
  {
   "cell_type": "code",
   "execution_count": null,
   "metadata": {},
   "outputs": [],
   "source": [
    "search_client = SearchClient(endpoint=endpoint,\n",
    "                           index_name=index_name,\n",
    "                           credential=AzureKeyCredential(admin_key))\n",
    "\n",
    "admin_client = SearchIndexClient(endpoint=endpoint,\n",
    "                           index_name=index_name,\n",
    "                           credential=AzureKeyCredential(admin_key))\n",
    "\n",
    "    \n",
    "def delete_search_index(service_name, index_name, admin_key):\n",
    "    '''Delete a search index by SDK '''\n",
    "    admin_client = SearchIndexClient(endpoint=endpoint,\n",
    "                           index_name=index_name,\n",
    "                           credential=AzureKeyCredential(admin_key))\n",
    "    try:\n",
    "        result = admin_client.delete_index(index_name)\n",
    "        print ('Index', index_name, 'Deleted')\n",
    "    except Exception as ex:\n",
    "        print (ex)\n",
    "        "
   ]
  },
  {
   "cell_type": "code",
   "execution_count": null,
   "metadata": {},
   "outputs": [],
   "source": []
  },
  {
   "cell_type": "markdown",
   "metadata": {},
   "source": [
    "## Create Azure Search Index"
   ]
  },
  {
   "cell_type": "code",
   "execution_count": null,
   "metadata": {},
   "outputs": [],
   "source": [
    "#Informações sobre os campos do index\n",
    "index_schema = {\n",
    "   \"name\": index_name,\n",
    "   \"fields\": [\n",
    "     {\"name\": \"nome_audio\", \"type\": \"Edm.String\", \"key\": \"true\", \"filterable\": \"true\"},\n",
    "     {\"name\": \"blob_location\", \"type\": \"Edm.String\", \"searchable\": \"false\", \"filterable\": \"false\", \"sortable\": \"false\", \"facetable\": \"false\"},\n",
    "     {\"name\": \"classificacao\", \"type\": \"Collection(Edm.String)\", \"searchable\": \"true\", \"filterable\": \"true\", \"sortable\": \"false\", \"facetable\": \"true\"},\n",
    "     {\"name\": \"protocolo\", \"type\": \"Edm.String\", \"searchable\": \"true\", \"filterable\": \"false\", \"sortable\": \"false\", \"facetable\": \"false\"},\n",
    "     {\"name\": \"placa\", \"type\": \"Edm.String\", \"searchable\": \"true\", \"filterable\": \"false\", \"sortable\": \"false\", \"facetable\": \"false\"},\n",
    "     {\"name\": \"email\", \"type\": \"Edm.String\", \"searchable\": \"true\", \"filterable\": \"false\", \"sortable\": \"false\", \"facetable\": \"false\"}\n",
    "    ]\n",
    "   }"
   ]
  },
  {
   "cell_type": "code",
   "execution_count": null,
   "metadata": {},
   "outputs": [],
   "source": [
    "def create_search_index_rest(endpoint, api_version, headers, index_schema):\n",
    "    '''Create a search index by REST API'''\n",
    "    url = endpoint + \"indexes\" + api_version\n",
    "    response  = requests.post(url, headers=headers, json=index_schema)\n",
    "    print(response.status_code)\n",
    "    print(response.text)"
   ]
  },
  {
   "cell_type": "code",
   "execution_count": null,
   "metadata": {},
   "outputs": [],
   "source": [
    "delete_search_index(service_name, index_name, admin_key)"
   ]
  },
  {
   "cell_type": "code",
   "execution_count": null,
   "metadata": {},
   "outputs": [],
   "source": [
    "create_search_index_rest(endpoint, api_version, headers, index_schema)"
   ]
  },
  {
   "cell_type": "markdown",
   "metadata": {},
   "source": [
    "## Create Azure Search JSON\n",
    "\n",
    "Create the json document to populate de Azure Search Index"
   ]
  },
  {
   "cell_type": "code",
   "execution_count": null,
   "metadata": {},
   "outputs": [],
   "source": [
    "#De para das classes que o luis identificou para cada audio para as tags que serão pesquisadas no Search\n",
    "\n",
    "classe_tags = {\n",
    "    \"classe_roubo\" : [\"roubo\"],\n",
    "    \"classe_furto\" : [\"furto\"],\n",
    "    \"classe_colisao\" : [\"colisão\"],\n",
    "    \"classe_quebra_retrovisores\" : [\"quebra retrovisores\"],\n",
    "    \"None\" : [\"nenhum\", \"não indentificado\", \"indefinido\"]\n",
    "}"
   ]
  },
  {
   "cell_type": "code",
   "execution_count": null,
   "metadata": {},
   "outputs": [],
   "source": []
  },
  {
   "cell_type": "code",
   "execution_count": null,
   "metadata": {},
   "outputs": [],
   "source": [
    "def list_files(dir):\n",
    "    '''Listar arquivos em um diretório específico no SO'''\n",
    "    return [f for f in listdir(dir) if os.path.isfile(os.path.join(dir, f))]\n",
    "\n",
    "\n",
    "def read_json_file(file_path):\n",
    "    '''Ler arquivos sjon e retornar seu conteúdo'''\n",
    "    with open(file_path, 'r') as json_file:\n",
    "        return json.load(json_file)\n"
   ]
  },
  {
   "source": [
    "Summarizing the transcriptions results"
   ],
   "cell_type": "markdown",
   "metadata": {}
  },
  {
   "cell_type": "code",
   "execution_count": null,
   "metadata": {
    "tags": []
   },
   "outputs": [],
   "source": [
    "\n",
    "result_json = dict()\n",
    "dir_transcricoes = \"transcricoes\"\n",
    "for i in list_files(\"transcricoes\"):\n",
    "    print(i)\n",
    "    json_data = read_json_file(os.path.join(dir_transcricoes,i))\n",
    "    #getting only entities not empty\n",
    "    entities = [tok['entities'][0] for tok in json_data['result'] if len(tok['entities']) > 0]\n",
    "    #print(entities)\n",
    "    #filtering just type and entity keys\n",
    "    filtered_keys = [ \"type\", \"entity\"]\n",
    "    entities_filtered = [dict((k, d[k]) for k in filtered_keys) for d in entities]\n",
    "    #print(entities_filtered)\n",
    "    intents_summarized = dict(Counter(tok['topScoringIntent']['intent'] for tok in json_data['result']) )\n",
    "    #print(intents_summarized)\n",
    "    #só as classes None ou classe_\n",
    "    result_json[i]= {\"classes\" : {k:v for k,v in intents_summarized.items() if 'classe_' in k or 'None' in k},\n",
    "                     \"entities\" : entities_filtered}\n",
    "    print(result_json[i])\n",
    "\n",
    "    #print(result_json[i])\n",
    "\n"
   ]
  },
  {
   "cell_type": "code",
   "execution_count": null,
   "metadata": {},
   "outputs": [],
   "source": [
    "#Gerar o documento JSON com as informações do audio para subir no Search\n",
    "\n",
    "def generate_json_search(json_data):\n",
    "    json_search = {}\n",
    "    json_search['value'] = []\n",
    "    audio_data = {}\n",
    "    for r in json_data.keys():\n",
    "        tags = []\n",
    "        #print(r)\n",
    "        result = json_data[r].get(\"classes\")\n",
    "        #print(result)\n",
    "        #print(result.get(\"classes\"))\n",
    "        classes = result.keys()\n",
    "        #print(classes)\n",
    "        #Se houver mais que uma classe retirar o None\n",
    "        if (len(classes) > 1):\n",
    "            result.pop(\"None\")\n",
    "            for c in classes:\n",
    "                tags.extend(classe_tags[c])\n",
    "            #print(tags)\n",
    "        else:\n",
    "            for c in classes:\n",
    "                tags.extend(classe_tags[c])\n",
    "            #print(tags)\n",
    "            \n",
    "        audio_name = r[:-5]\n",
    "\n",
    "        audio_data = {\n",
    "            \"@search.action\": \"mergeOrUpload \",\n",
    "            \"nome_audio\" : audio_name,\n",
    "            \"blob_location\" : az_storage_uri + audio_name + \".wav\" + az_storage_sas_token ,\n",
    "            \"classificacao\" : tags         \n",
    "        }\n",
    "\n",
    "        for e in json_data[r].get(\"entities\"):\n",
    "            valor = e[\"entity\"]\n",
    "            if e[\"type\"] == \"protocolo\":\n",
    "                 valor = valor.replace(\" \", \"\").replace(\"-\",\"\") \n",
    "\n",
    "            audio_data[e[\"type\"].replace(\"builtin.email\", \"email\")] = valor\n",
    "\n",
    "        json_search['value'].append(audio_data)\n",
    "    return json_search\n",
    "    \n"
   ]
  },
  {
   "cell_type": "code",
   "execution_count": null,
   "metadata": {
    "scrolled": true
   },
   "outputs": [],
   "source": [
    "json_search = generate_json_search(result_json)"
   ]
  },
  {
   "cell_type": "code",
   "execution_count": null,
   "metadata": {},
   "outputs": [],
   "source": [
    "json_search"
   ]
  },
  {
   "cell_type": "markdown",
   "metadata": {},
   "source": [
    "## Upload JSON documents on Azure Search"
   ]
  },
  {
   "cell_type": "code",
   "execution_count": null,
   "metadata": {},
   "outputs": [],
   "source": [
    "def upload_documents_rest(endpoint, headers, index_schema, json_search, api_version):\n",
    "    '''Realizar o upload do json no Search'''\n",
    "    url = endpoint + \"indexes/\"+index_name+\"/docs/index\" + api_version\n",
    "    response  = requests.post(url, headers=headers, json=json_search)\n",
    "    index_content = response.json()\n",
    "    pprint(index_content)"
   ]
  },
  {
   "cell_type": "code",
   "execution_count": null,
   "metadata": {
    "scrolled": true
   },
   "outputs": [],
   "source": [
    "upload_documents_rest(endpoint, headers, index_schema, json_search, api_version)"
   ]
  },
  {
   "cell_type": "markdown",
   "metadata": {},
   "source": [
    "To Test, go to azure portal on Azure Cognitivive Service and click on **Search Explorer**"
   ]
  },
  {
   "cell_type": "code",
   "execution_count": null,
   "metadata": {},
   "outputs": [],
   "source": []
  }
 ],
 "metadata": {
  "kernelspec": {
   "display_name": "Python 3",
   "language": "python",
   "name": "python3"
  },
  "language_info": {
   "codemirror_mode": {
    "name": "ipython",
    "version": 3
   },
   "file_extension": ".py",
   "mimetype": "text/x-python",
   "name": "python",
   "nbconvert_exporter": "python",
   "pygments_lexer": "ipython3",
   "version": "3.8.5-final"
  }
 },
 "nbformat": 4,
 "nbformat_minor": 4
}